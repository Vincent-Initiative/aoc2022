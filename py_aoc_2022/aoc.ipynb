{
 "cells": [
  {
   "cell_type": "code",
   "execution_count": 45,
   "id": "4ab8d78d-38fe-487e-be82-0b66b7a2bb19",
   "metadata": {},
   "outputs": [],
   "source": [
    "import pandas as pd\n",
    "from pandas import DataFrame\n",
    "import sys\n",
    "\n",
    "def expandDf(data: DataFrame) -> DataFrame:\n",
    "    data[[\"elf1_zone_inf\", \"elf1_zone_sup\"]] = data.elf1.str.split('-', expand=True)\n",
    "    data[[\"elf2_zone_inf\", \"elf2_zone_sup\"]] = data.elf2.str.split('-', expand=True)\n",
    "    data[[\"elf1_zone_inf\", \"elf1_zone_sup\"]] = data[[\"elf1_zone_inf\", \"elf1_zone_sup\"]].astype(\"int64\")\n",
    "    data[[\"elf2_zone_inf\", \"elf2_zone_sup\"]] = data[[\"elf2_zone_inf\", \"elf2_zone_sup\"]].astype(\"int64\")\n",
    "    \n",
    "    return data\n",
    "\n",
    "def filterDf(data:DataFrame) -> DataFrame:\n",
    "    filteredDf = data[((data.elf1_zone_inf >= data.elf2_zone_inf) & (data.elf1_zone_sup <= data.elf2_zone_sup)) |\n",
    "    ((data.elf2_zone_inf >= data.elf1_zone_inf) & (data.elf2_zone_sup <= data.elf1_zone_sup))]\n",
    "    \n",
    "    return filteredDf\n",
    "\n",
    "\n",
    "def part1(inputDf: DataFrame) -> int:\n",
    "    expandedDf = expandDf(inputDf)\n",
    "    filteredDf = filterDf(expandedDf)\n",
    "    \n",
    "    result = len(filteredDf)\n",
    "\n",
    "    return result\n",
    "\n",
    "\n",
    "def part2(inputDf: DataFrame):\n",
    "    result = None\n",
    "\n",
    "    return result\n"
   ]
  },
  {
   "cell_type": "code",
   "execution_count": 21,
   "id": "876c67da-f6be-4565-9bf9-2102bfd436a0",
   "metadata": {},
   "outputs": [
    {
     "name": "stdout",
     "output_type": "stream",
     "text": [
      "Type 1 or 2\n"
     ]
    }
   ],
   "source": [
    "if __name__ == \"__main__\":\n",
    "    inputDf: DataFrame = pd.read_csv(\"day_4/input\", sep=',', header=None, names=[\"elf1\", \"elf2\"])\n",
    "\n",
    "    match sys.argv[1]:\n",
    "        case '1': print(part1(inputDf))\n",
    "        case '2': print(part2(inputDf))\n",
    "        case other: print(\"Type 1 or 2\")"
   ]
  },
  {
   "cell_type": "code",
   "execution_count": 39,
   "id": "3ff498ae-5baf-4f06-9c5a-788b4df99692",
   "metadata": {},
   "outputs": [],
   "source": [
    "expandedDf = expandDf(inputDf)"
   ]
  },
  {
   "cell_type": "code",
   "execution_count": 40,
   "id": "24c075cc-b2cb-47cb-9431-a4a5f5764059",
   "metadata": {},
   "outputs": [
    {
     "name": "stdout",
     "output_type": "stream",
     "text": [
      "<class 'pandas.core.frame.DataFrame'>\n",
      "RangeIndex: 1000 entries, 0 to 999\n",
      "Data columns (total 6 columns):\n",
      " #   Column         Non-Null Count  Dtype \n",
      "---  ------         --------------  ----- \n",
      " 0   elf1           1000 non-null   object\n",
      " 1   elf2           1000 non-null   object\n",
      " 2   elf1_zone_inf  1000 non-null   int64 \n",
      " 3   elf1_zone_sup  1000 non-null   int64 \n",
      " 4   elf2_zone_inf  1000 non-null   int64 \n",
      " 5   elf2_zone_sup  1000 non-null   int64 \n",
      "dtypes: int64(4), object(2)\n",
      "memory usage: 47.0+ KB\n"
     ]
    }
   ],
   "source": [
    "expandedDf.info()"
   ]
  },
  {
   "cell_type": "code",
   "execution_count": 47,
   "id": "14a42ceb-f82a-43a9-98a6-f4844530ffdd",
   "metadata": {},
   "outputs": [
    {
     "data": {
      "text/plain": [
       "571"
      ]
     },
     "execution_count": 47,
     "metadata": {},
     "output_type": "execute_result"
    }
   ],
   "source": [
    "len(filterDf(expandedDf))"
   ]
  },
  {
   "cell_type": "code",
   "execution_count": 43,
   "id": "c712f9bd-693e-4bed-931d-7aa958d10a10",
   "metadata": {},
   "outputs": [],
   "source": []
  },
  {
   "cell_type": "code",
   "execution_count": null,
   "id": "c7db3af6-356f-4dc2-b9c6-0d15159599b6",
   "metadata": {},
   "outputs": [],
   "source": []
  }
 ],
 "metadata": {
  "kernelspec": {
   "display_name": "py_aoc_2022-D9BiymKF",
   "language": "python",
   "name": "py_aoc_2022-d9biymkf"
  },
  "language_info": {
   "codemirror_mode": {
    "name": "ipython",
    "version": 3
   },
   "file_extension": ".py",
   "mimetype": "text/x-python",
   "name": "python",
   "nbconvert_exporter": "python",
   "pygments_lexer": "ipython3",
   "version": "3.10.6"
  }
 },
 "nbformat": 4,
 "nbformat_minor": 5
}
