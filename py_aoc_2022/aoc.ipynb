{
 "cells": [
  {
   "cell_type": "code",
   "execution_count": 64,
   "id": "086e2eb4-3a97-426a-8287-f8d3451c3762",
   "metadata": {},
   "outputs": [],
   "source": [
    "import pandas as pd\n",
    "import numpy as np"
   ]
  },
  {
   "cell_type": "code",
   "execution_count": 63,
   "id": "9601230c-3f28-4779-a6bf-be91622c1b4e",
   "metadata": {},
   "outputs": [
    {
     "data": {
      "text/html": [
       "<div>\n",
       "<style scoped>\n",
       "    .dataframe tbody tr th:only-of-type {\n",
       "        vertical-align: middle;\n",
       "    }\n",
       "\n",
       "    .dataframe tbody tr th {\n",
       "        vertical-align: top;\n",
       "    }\n",
       "\n",
       "    .dataframe thead th {\n",
       "        text-align: right;\n",
       "    }\n",
       "</style>\n",
       "<table border=\"1\" class=\"dataframe\">\n",
       "  <thead>\n",
       "    <tr style=\"text-align: right;\">\n",
       "      <th></th>\n",
       "      <th>opponent</th>\n",
       "      <th>result</th>\n",
       "    </tr>\n",
       "  </thead>\n",
       "  <tbody>\n",
       "    <tr>\n",
       "      <th>0</th>\n",
       "      <td>C</td>\n",
       "      <td>Y</td>\n",
       "    </tr>\n",
       "    <tr>\n",
       "      <th>1</th>\n",
       "      <td>C</td>\n",
       "      <td>Y</td>\n",
       "    </tr>\n",
       "    <tr>\n",
       "      <th>2</th>\n",
       "      <td>C</td>\n",
       "      <td>Y</td>\n",
       "    </tr>\n",
       "    <tr>\n",
       "      <th>3</th>\n",
       "      <td>B</td>\n",
       "      <td>Z</td>\n",
       "    </tr>\n",
       "    <tr>\n",
       "      <th>4</th>\n",
       "      <td>C</td>\n",
       "      <td>Y</td>\n",
       "    </tr>\n",
       "    <tr>\n",
       "      <th>...</th>\n",
       "      <td>...</td>\n",
       "      <td>...</td>\n",
       "    </tr>\n",
       "    <tr>\n",
       "      <th>2495</th>\n",
       "      <td>A</td>\n",
       "      <td>X</td>\n",
       "    </tr>\n",
       "    <tr>\n",
       "      <th>2496</th>\n",
       "      <td>C</td>\n",
       "      <td>Y</td>\n",
       "    </tr>\n",
       "    <tr>\n",
       "      <th>2497</th>\n",
       "      <td>C</td>\n",
       "      <td>X</td>\n",
       "    </tr>\n",
       "    <tr>\n",
       "      <th>2498</th>\n",
       "      <td>A</td>\n",
       "      <td>Y</td>\n",
       "    </tr>\n",
       "    <tr>\n",
       "      <th>2499</th>\n",
       "      <td>A</td>\n",
       "      <td>X</td>\n",
       "    </tr>\n",
       "  </tbody>\n",
       "</table>\n",
       "<p>2500 rows × 2 columns</p>\n",
       "</div>"
      ],
      "text/plain": [
       "     opponent result\n",
       "0           C      Y\n",
       "1           C      Y\n",
       "2           C      Y\n",
       "3           B      Z\n",
       "4           C      Y\n",
       "...       ...    ...\n",
       "2495        A      X\n",
       "2496        C      Y\n",
       "2497        C      X\n",
       "2498        A      Y\n",
       "2499        A      X\n",
       "\n",
       "[2500 rows x 2 columns]"
      ]
     },
     "execution_count": 63,
     "metadata": {},
     "output_type": "execute_result"
    }
   ],
   "source": [
    "data = pd.read_csv(\"data/day2.txt\", sep=\" \", header=None, names=[\"opponent\", \"result\"])\n",
    "data"
   ]
  },
  {
   "cell_type": "code",
   "execution_count": 96,
   "id": "5885fdca-59a4-4b9f-857c-114152ebabae",
   "metadata": {},
   "outputs": [],
   "source": [
    "GAME_SCORE_MATRIX = np.array(\n",
    "    ((3, 0, 6),\n",
    "     (6, 3, 0),\n",
    "     (0, 6, 3)))\n",
    "\n",
    "GAME_RULE_SCORE = {\"X\": 0, \"Y\": 3, \"Z\": 6}\n",
    "DRAW_INDEX = {\"A\": 0, \"B\": 1, \"C\": 2}"
   ]
  },
  {
   "cell_type": "code",
   "execution_count": 97,
   "id": "9c7d9781-16f9-48bf-8e18-4ee2f4b71fae",
   "metadata": {},
   "outputs": [],
   "source": [
    "def getRoundScore(oppDraw, result):\n",
    "    oppDrawIndex = DRAW_INDEX[oppDraw]\n",
    "    resultScore = GAME_RULE_SCORE[result]\n",
    "    myDrawIndex = np.where(GAME_SCORE_MATRIX[:,oppDrawIndex] == resultScore)[0][0]\n",
    "    myDrawScore = myDrawIndex + 1\n",
    "    \n",
    "    return GAME_RULE_SCORE[result] + myDrawScore"
   ]
  },
  {
   "cell_type": "code",
   "execution_count": 98,
   "id": "8fde4ec1-b613-49ab-848a-1ca8a44fd907",
   "metadata": {},
   "outputs": [
    {
     "data": {
      "text/plain": [
       "12111"
      ]
     },
     "execution_count": 98,
     "metadata": {},
     "output_type": "execute_result"
    }
   ],
   "source": [
    "data.apply(lambda row: getRoundScore(row.opponent, row.result), axis=1).agg(sum)"
   ]
  },
  {
   "cell_type": "code",
   "execution_count": null,
   "id": "dfb41ebf-8556-41ef-9f40-1c777ce9f9b5",
   "metadata": {},
   "outputs": [],
   "source": []
  }
 ],
 "metadata": {
  "kernelspec": {
   "display_name": "py_aoc_2022-D9BiymKF",
   "language": "python",
   "name": "py_aoc_2022-d9biymkf"
  },
  "language_info": {
   "codemirror_mode": {
    "name": "ipython",
    "version": 3
   },
   "file_extension": ".py",
   "mimetype": "text/x-python",
   "name": "python",
   "nbconvert_exporter": "python",
   "pygments_lexer": "ipython3",
   "version": "3.10.6"
  }
 },
 "nbformat": 4,
 "nbformat_minor": 5
}
