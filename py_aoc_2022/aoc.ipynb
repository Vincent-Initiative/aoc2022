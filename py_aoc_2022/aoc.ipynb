{
 "cells": [
  {
   "cell_type": "code",
   "execution_count": 2,
   "id": "086e2eb4-3a97-426a-8287-f8d3451c3762",
   "metadata": {},
   "outputs": [],
   "source": [
    "import pandas as pd\n",
    "import numpy as np"
   ]
  },
  {
   "cell_type": "code",
   "execution_count": 48,
   "id": "9601230c-3f28-4779-a6bf-be91622c1b4e",
   "metadata": {},
   "outputs": [
    {
     "data": {
      "text/html": [
       "<div>\n",
       "<style scoped>\n",
       "    .dataframe tbody tr th:only-of-type {\n",
       "        vertical-align: middle;\n",
       "    }\n",
       "\n",
       "    .dataframe tbody tr th {\n",
       "        vertical-align: top;\n",
       "    }\n",
       "\n",
       "    .dataframe thead th {\n",
       "        text-align: right;\n",
       "    }\n",
       "</style>\n",
       "<table border=\"1\" class=\"dataframe\">\n",
       "  <thead>\n",
       "    <tr style=\"text-align: right;\">\n",
       "      <th></th>\n",
       "      <th>content</th>\n",
       "    </tr>\n",
       "  </thead>\n",
       "  <tbody>\n",
       "    <tr>\n",
       "      <th>0</th>\n",
       "      <td>PPZTzDhJPLqPhqDTqrwQZZWbmCBMJMcsNmCBFWmMcsNb</td>\n",
       "    </tr>\n",
       "    <tr>\n",
       "      <th>1</th>\n",
       "      <td>vplSlfdfGvfRRGsgNcMglsFWMWMC</td>\n",
       "    </tr>\n",
       "    <tr>\n",
       "      <th>2</th>\n",
       "      <td>jtjvFHdjjwqrwqwL</td>\n",
       "    </tr>\n",
       "    <tr>\n",
       "      <th>3</th>\n",
       "      <td>NSffhsNSjfLjfstsjtjNNjjqMqnpggHngqgHGHCgClGbCzCC</td>\n",
       "    </tr>\n",
       "    <tr>\n",
       "      <th>4</th>\n",
       "      <td>dDPZZDZFdwFWwFZFWZRTFDwGzCMlgnpgCpnzglClHMbg</td>\n",
       "    </tr>\n",
       "    <tr>\n",
       "      <th>...</th>\n",
       "      <td>...</td>\n",
       "    </tr>\n",
       "    <tr>\n",
       "      <th>295</th>\n",
       "      <td>qZlTTgTvlHnqvllPssQrgQcQwscrQMsf</td>\n",
       "    </tr>\n",
       "    <tr>\n",
       "      <th>296</th>\n",
       "      <td>CClpSnTllZnZCDLHnlNzGSRmRthVmmzqJzhd</td>\n",
       "    </tr>\n",
       "    <tr>\n",
       "      <th>297</th>\n",
       "      <td>DLzSMtDLtzmmlDlMlMDbcrcTDqFvVvVqqTbD</td>\n",
       "    </tr>\n",
       "    <tr>\n",
       "      <th>298</th>\n",
       "      <td>dnZshHpZRChgnszRwRZCpTqqTcwVqFcrVqcBVPqVTr</td>\n",
       "    </tr>\n",
       "    <tr>\n",
       "      <th>299</th>\n",
       "      <td>snRRRdJsZgphCWlWtmJSjWWzjt</td>\n",
       "    </tr>\n",
       "  </tbody>\n",
       "</table>\n",
       "<p>300 rows × 1 columns</p>\n",
       "</div>"
      ],
      "text/plain": [
       "                                              content\n",
       "0        PPZTzDhJPLqPhqDTqrwQZZWbmCBMJMcsNmCBFWmMcsNb\n",
       "1                        vplSlfdfGvfRRGsgNcMglsFWMWMC\n",
       "2                                    jtjvFHdjjwqrwqwL\n",
       "3    NSffhsNSjfLjfstsjtjNNjjqMqnpggHngqgHGHCgClGbCzCC\n",
       "4        dDPZZDZFdwFWwFZFWZRTFDwGzCMlgnpgCpnzglClHMbg\n",
       "..                                                ...\n",
       "295                  qZlTTgTvlHnqvllPssQrgQcQwscrQMsf\n",
       "296              CClpSnTllZnZCDLHnlNzGSRmRthVmmzqJzhd\n",
       "297              DLzSMtDLtzmmlDlMlMDbcrcTDqFvVvVqqTbD\n",
       "298        dnZshHpZRChgnszRwRZCpTqqTcwVqFcrVqcBVPqVTr\n",
       "299                        snRRRdJsZgphCWlWtmJSjWWzjt\n",
       "\n",
       "[300 rows x 1 columns]"
      ]
     },
     "execution_count": 48,
     "metadata": {},
     "output_type": "execute_result"
    }
   ],
   "source": [
    "data = pd.read_csv(\"data/day3.txt\", sep=\" \", header=None, names=[\"content\"])\n",
    "data"
   ]
  },
  {
   "cell_type": "code",
   "execution_count": 83,
   "id": "8672f7ac-cd09-4b17-b3ec-2751754a1e37",
   "metadata": {},
   "outputs": [],
   "source": [
    "def splitLine(line):\n",
    "    slidePoint=int(len(line)/2)\n",
    "    return line[:slidePoint], line[slidePoint:]"
   ]
  },
  {
   "cell_type": "code",
   "execution_count": 90,
   "id": "dfb41ebf-8556-41ef-9f40-1c777ce9f9b5",
   "metadata": {},
   "outputs": [],
   "source": [
    "data[\"compartment1\"], data[\"compartment2\"] = zip(*data.content.apply(lambda line: splitLine(line)))"
   ]
  },
  {
   "cell_type": "code",
   "execution_count": 114,
   "id": "1d32af71-674f-4acb-a13a-e970b20b768a",
   "metadata": {},
   "outputs": [],
   "source": [
    "def getPriorityFromType(objectType):\n",
    "    asciiCode = ord(objectType)\n",
    "    if(asciiCode >= 97):\n",
    "        # Lowercase\n",
    "        return asciiCode - 96\n",
    "    else:\n",
    "        # Uppercase\n",
    "        return asciiCode - 38"
   ]
  },
  {
   "cell_type": "code",
   "execution_count": 115,
   "id": "4eca0015-adf0-4459-bdf9-e1a4e02b7131",
   "metadata": {},
   "outputs": [],
   "source": [
    "def getCommonLetter(str1, str2):\n",
    "    return list(set(str1).intersection(str2))[0]"
   ]
  },
  {
   "cell_type": "code",
   "execution_count": 116,
   "id": "c912554c-b2f2-4e89-acaa-67d7acc51f98",
   "metadata": {},
   "outputs": [],
   "source": [
    "def computePriority(c1, c2):\n",
    "    commonLetter = getCommonLetter(c1, c2)\n",
    "    return getPriorityFromType(commonLetter)"
   ]
  },
  {
   "cell_type": "code",
   "execution_count": 117,
   "id": "0839d2ff-d349-46a5-acc0-0d33de6846e1",
   "metadata": {},
   "outputs": [
    {
     "data": {
      "text/plain": [
       "7863"
      ]
     },
     "execution_count": 117,
     "metadata": {},
     "output_type": "execute_result"
    }
   ],
   "source": [
    "data.apply(lambda line: computePriority(line.compartment1, line.compartment2), axis=1).agg(sum)"
   ]
  },
  {
   "cell_type": "code",
   "execution_count": null,
   "id": "ab8c958c-047d-4e12-8f71-d4e1a8580aa2",
   "metadata": {},
   "outputs": [],
   "source": []
  }
 ],
 "metadata": {
  "kernelspec": {
   "display_name": "py_aoc_2022-D9BiymKF",
   "language": "python",
   "name": "py_aoc_2022-d9biymkf"
  },
  "language_info": {
   "codemirror_mode": {
    "name": "ipython",
    "version": 3
   },
   "file_extension": ".py",
   "mimetype": "text/x-python",
   "name": "python",
   "nbconvert_exporter": "python",
   "pygments_lexer": "ipython3",
   "version": "3.10.6"
  }
 },
 "nbformat": 4,
 "nbformat_minor": 5
}
