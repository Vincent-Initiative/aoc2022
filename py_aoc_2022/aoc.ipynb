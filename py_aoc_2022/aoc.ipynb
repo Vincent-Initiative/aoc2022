{
 "cells": [
  {
   "cell_type": "code",
   "execution_count": 22,
   "id": "086e2eb4-3a97-426a-8287-f8d3451c3762",
   "metadata": {},
   "outputs": [],
   "source": [
    "import pandas as pd\n",
    "import heapq"
   ]
  },
  {
   "cell_type": "code",
   "execution_count": 12,
   "id": "9601230c-3f28-4779-a6bf-be91622c1b4e",
   "metadata": {},
   "outputs": [],
   "source": [
    "data = pd.read_table(\"data/day1\", header=None, skip_blank_lines=False)"
   ]
  },
  {
   "cell_type": "code",
   "execution_count": 14,
   "id": "9c7d9781-16f9-48bf-8e18-4ee2f4b71fae",
   "metadata": {},
   "outputs": [
    {
     "data": {
      "text/html": [
       "<div>\n",
       "<style scoped>\n",
       "    .dataframe tbody tr th:only-of-type {\n",
       "        vertical-align: middle;\n",
       "    }\n",
       "\n",
       "    .dataframe tbody tr th {\n",
       "        vertical-align: top;\n",
       "    }\n",
       "\n",
       "    .dataframe thead th {\n",
       "        text-align: right;\n",
       "    }\n",
       "</style>\n",
       "<table border=\"1\" class=\"dataframe\">\n",
       "  <thead>\n",
       "    <tr style=\"text-align: right;\">\n",
       "      <th></th>\n",
       "      <th>0</th>\n",
       "    </tr>\n",
       "  </thead>\n",
       "  <tbody>\n",
       "    <tr>\n",
       "      <th>0</th>\n",
       "      <td>17998.0</td>\n",
       "    </tr>\n",
       "    <tr>\n",
       "      <th>1</th>\n",
       "      <td>7761.0</td>\n",
       "    </tr>\n",
       "    <tr>\n",
       "      <th>2</th>\n",
       "      <td>NaN</td>\n",
       "    </tr>\n",
       "    <tr>\n",
       "      <th>3</th>\n",
       "      <td>5628.0</td>\n",
       "    </tr>\n",
       "    <tr>\n",
       "      <th>4</th>\n",
       "      <td>1490.0</td>\n",
       "    </tr>\n",
       "    <tr>\n",
       "      <th>...</th>\n",
       "      <td>...</td>\n",
       "    </tr>\n",
       "    <tr>\n",
       "      <th>2232</th>\n",
       "      <td>12828.0</td>\n",
       "    </tr>\n",
       "    <tr>\n",
       "      <th>2233</th>\n",
       "      <td>2639.0</td>\n",
       "    </tr>\n",
       "    <tr>\n",
       "      <th>2234</th>\n",
       "      <td>10883.0</td>\n",
       "    </tr>\n",
       "    <tr>\n",
       "      <th>2235</th>\n",
       "      <td>10054.0</td>\n",
       "    </tr>\n",
       "    <tr>\n",
       "      <th>2236</th>\n",
       "      <td>13688.0</td>\n",
       "    </tr>\n",
       "  </tbody>\n",
       "</table>\n",
       "<p>2237 rows × 1 columns</p>\n",
       "</div>"
      ],
      "text/plain": [
       "            0\n",
       "0     17998.0\n",
       "1      7761.0\n",
       "2         NaN\n",
       "3      5628.0\n",
       "4      1490.0\n",
       "...       ...\n",
       "2232  12828.0\n",
       "2233   2639.0\n",
       "2234  10883.0\n",
       "2235  10054.0\n",
       "2236  13688.0\n",
       "\n",
       "[2237 rows x 1 columns]"
      ]
     },
     "execution_count": 14,
     "metadata": {},
     "output_type": "execute_result"
    }
   ],
   "source": [
    "data"
   ]
  },
  {
   "cell_type": "code",
   "execution_count": 26,
   "id": "43c2b894-23fa-45a2-b565-72ac695e52be",
   "metadata": {},
   "outputs": [
    {
     "name": "stdout",
     "output_type": "stream",
     "text": [
      "200158.0\n"
     ]
    }
   ],
   "source": [
    "top3_calorie = [0, 0, 0]\n",
    "current_calorie = 0\n",
    "\n",
    "for calorie in data[0]:\n",
    "    if(pd.isna(calorie)):\n",
    "        if (current_calorie>heapq.nsmallest(1, top3_calorie)[0]):\n",
    "            heapq.heapreplace(top3_calorie, current_calorie)\n",
    "        current_calorie = 0\n",
    "    else:    \n",
    "        current_calorie += calorie\n",
    "        \n",
    "print(sum(top3_calorie))"
   ]
  },
  {
   "cell_type": "code",
   "execution_count": null,
   "id": "8fde4ec1-b613-49ab-848a-1ca8a44fd907",
   "metadata": {},
   "outputs": [],
   "source": []
  },
  {
   "cell_type": "code",
   "execution_count": null,
   "id": "06707066-b165-40b9-b124-c16a9bc2cb6a",
   "metadata": {},
   "outputs": [],
   "source": []
  }
 ],
 "metadata": {
  "kernelspec": {
   "display_name": "py_aoc_2022-D9BiymKF",
   "language": "python",
   "name": "py_aoc_2022-d9biymkf"
  },
  "language_info": {
   "codemirror_mode": {
    "name": "ipython",
    "version": 3
   },
   "file_extension": ".py",
   "mimetype": "text/x-python",
   "name": "python",
   "nbconvert_exporter": "python",
   "pygments_lexer": "ipython3",
   "version": "3.10.6"
  }
 },
 "nbformat": 4,
 "nbformat_minor": 5
}
