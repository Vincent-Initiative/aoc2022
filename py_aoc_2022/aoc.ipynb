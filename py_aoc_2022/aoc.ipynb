{
 "cells": [
  {
   "cell_type": "code",
   "execution_count": 22,
   "id": "086e2eb4-3a97-426a-8287-f8d3451c3762",
   "metadata": {},
   "outputs": [],
   "source": [
    "import pandas as pd"
   ]
  },
  {
   "cell_type": "code",
   "execution_count": 39,
   "id": "9601230c-3f28-4779-a6bf-be91622c1b4e",
   "metadata": {},
   "outputs": [
    {
     "data": {
      "text/html": [
       "<div>\n",
       "<style scoped>\n",
       "    .dataframe tbody tr th:only-of-type {\n",
       "        vertical-align: middle;\n",
       "    }\n",
       "\n",
       "    .dataframe tbody tr th {\n",
       "        vertical-align: top;\n",
       "    }\n",
       "\n",
       "    .dataframe thead th {\n",
       "        text-align: right;\n",
       "    }\n",
       "</style>\n",
       "<table border=\"1\" class=\"dataframe\">\n",
       "  <thead>\n",
       "    <tr style=\"text-align: right;\">\n",
       "      <th></th>\n",
       "      <th>opponent</th>\n",
       "      <th>me</th>\n",
       "    </tr>\n",
       "  </thead>\n",
       "  <tbody>\n",
       "    <tr>\n",
       "      <th>0</th>\n",
       "      <td>C</td>\n",
       "      <td>Y</td>\n",
       "    </tr>\n",
       "    <tr>\n",
       "      <th>1</th>\n",
       "      <td>C</td>\n",
       "      <td>Y</td>\n",
       "    </tr>\n",
       "    <tr>\n",
       "      <th>2</th>\n",
       "      <td>C</td>\n",
       "      <td>Y</td>\n",
       "    </tr>\n",
       "    <tr>\n",
       "      <th>3</th>\n",
       "      <td>B</td>\n",
       "      <td>Z</td>\n",
       "    </tr>\n",
       "    <tr>\n",
       "      <th>4</th>\n",
       "      <td>C</td>\n",
       "      <td>Y</td>\n",
       "    </tr>\n",
       "    <tr>\n",
       "      <th>...</th>\n",
       "      <td>...</td>\n",
       "      <td>...</td>\n",
       "    </tr>\n",
       "    <tr>\n",
       "      <th>2495</th>\n",
       "      <td>A</td>\n",
       "      <td>X</td>\n",
       "    </tr>\n",
       "    <tr>\n",
       "      <th>2496</th>\n",
       "      <td>C</td>\n",
       "      <td>Y</td>\n",
       "    </tr>\n",
       "    <tr>\n",
       "      <th>2497</th>\n",
       "      <td>C</td>\n",
       "      <td>X</td>\n",
       "    </tr>\n",
       "    <tr>\n",
       "      <th>2498</th>\n",
       "      <td>A</td>\n",
       "      <td>Y</td>\n",
       "    </tr>\n",
       "    <tr>\n",
       "      <th>2499</th>\n",
       "      <td>A</td>\n",
       "      <td>X</td>\n",
       "    </tr>\n",
       "  </tbody>\n",
       "</table>\n",
       "<p>2500 rows × 2 columns</p>\n",
       "</div>"
      ],
      "text/plain": [
       "     opponent me\n",
       "0           C  Y\n",
       "1           C  Y\n",
       "2           C  Y\n",
       "3           B  Z\n",
       "4           C  Y\n",
       "...       ... ..\n",
       "2495        A  X\n",
       "2496        C  Y\n",
       "2497        C  X\n",
       "2498        A  Y\n",
       "2499        A  X\n",
       "\n",
       "[2500 rows x 2 columns]"
      ]
     },
     "execution_count": 39,
     "metadata": {},
     "output_type": "execute_result"
    }
   ],
   "source": [
    "data = pd.read_csv(\"data/day2.txt\", sep=\" \", header=None, names=[\"opponent\", \"me\"])\n",
    "data"
   ]
  },
  {
   "cell_type": "code",
   "execution_count": 60,
   "id": "5885fdca-59a4-4b9f-857c-114152ebabae",
   "metadata": {},
   "outputs": [],
   "source": [
    "GAME_RULE_SCORE = {\n",
    "    \"AX\" : 3,\n",
    "    \"AY\" : 6,\n",
    "    \"AZ\" : 0,\n",
    "    \"BX\" : 0,\n",
    "    \"BY\" : 3,\n",
    "    \"BZ\" : 6,\n",
    "    \"CX\" : 6,\n",
    "    \"CY\" : 0,\n",
    "    \"CZ\" : 3,\n",
    "}\n",
    "DRAW_SCORE = {\"X\": 1, \"Y\": 2, \"Z\": 3}"
   ]
  },
  {
   "cell_type": "code",
   "execution_count": 61,
   "id": "9c7d9781-16f9-48bf-8e18-4ee2f4b71fae",
   "metadata": {},
   "outputs": [],
   "source": [
    "def getRoundScore(opp, me):\n",
    "    gameRuleScore = GAME_RULE_SCORE[opp + me]\n",
    "    drawScore = DRAW_SCORE[me]\n",
    "    \n",
    "    return gameRuleScore + drawScore"
   ]
  },
  {
   "cell_type": "code",
   "execution_count": 62,
   "id": "8fde4ec1-b613-49ab-848a-1ca8a44fd907",
   "metadata": {},
   "outputs": [
    {
     "data": {
      "text/plain": [
       "9177"
      ]
     },
     "execution_count": 62,
     "metadata": {},
     "output_type": "execute_result"
    }
   ],
   "source": [
    "data.apply(lambda row: getRoundScore(row.opponent, row.me), axis=1).agg(sum)"
   ]
  },
  {
   "cell_type": "code",
   "execution_count": null,
   "id": "06707066-b165-40b9-b124-c16a9bc2cb6a",
   "metadata": {},
   "outputs": [],
   "source": []
  }
 ],
 "metadata": {
  "kernelspec": {
   "display_name": "py_aoc_2022-D9BiymKF",
   "language": "python",
   "name": "py_aoc_2022-d9biymkf"
  },
  "language_info": {
   "codemirror_mode": {
    "name": "ipython",
    "version": 3
   },
   "file_extension": ".py",
   "mimetype": "text/x-python",
   "name": "python",
   "nbconvert_exporter": "python",
   "pygments_lexer": "ipython3",
   "version": "3.10.6"
  }
 },
 "nbformat": 4,
 "nbformat_minor": 5
}
